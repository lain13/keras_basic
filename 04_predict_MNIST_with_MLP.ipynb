{
 "cells": [
  {
   "cell_type": "code",
   "execution_count": 3,
   "metadata": {},
   "outputs": [],
   "source": [
    "import tensorflow as tf\n",
    "import tensorflow.keras as keras\n",
    "from tensorflow.keras.models import Sequential\n",
    "from tensorflow.keras.layers import Dense\n",
    "from tensorflow.keras.utils import to_categorical\n",
    "from tensorflow.keras.callbacks import ModelCheckpoint, EarlyStopping\n",
    "from sklearn.model_selection import train_test_split\n",
    "from sklearn.preprocessing import LabelEncoder\n",
    "import pandas as pd\n",
    "import numpy as np\n",
    "import matplotlib.pyplot as plt\n",
    "import matplotlib as mpl\n",
    "import os\n",
    "from tensorflow.keras.datasets import mnist"
   ]
  },
  {
   "cell_type": "code",
   "execution_count": 5,
   "metadata": {},
   "outputs": [],
   "source": []
  },
  {
   "cell_type": "code",
   "execution_count": 6,
   "metadata": {},
   "outputs": [
    {
     "name": "stdout",
     "output_type": "stream",
     "text": [
      "(60000, 28, 28)\n",
      "(10000, 28, 28)\n",
      "{0, 1, 2, 3, 4, 5, 6, 7, 8, 9}\n",
      "10\n"
     ]
    }
   ],
   "source": [
    "(X_train, y_train), (X_test, y_test) = mnist.load_data()\n",
    "\n",
    "print(X_train.shape)\n",
    "print(X_test.shape)\n",
    "print(set(y_train))\n",
    "print(len(set(y_train)))"
   ]
  },
  {
   "cell_type": "code",
   "execution_count": 8,
   "metadata": {},
   "outputs": [
    {
     "name": "stdout",
     "output_type": "stream",
     "text": [
      "(60000, 10)\n"
     ]
    }
   ],
   "source": [
    "X_train = X_train.reshape(X_train.shape[0], 28*28).astype('float32') / 255 # 255로 나누는 것은 rescale이다.\n",
    "X_test = X_test.reshape(X_test.shape[0], 28*28).astype('float32') / 255    # 255로 나누는 것은 rescale이다.\n",
    "\n",
    "y_train = to_categorical(y_train, len(set(y_train)))\n",
    "y_test = to_categorical(y_test, len(set(y_test)))\n",
    "\n",
    "print(y_train.shape)"
   ]
  },
  {
   "cell_type": "code",
   "execution_count": 9,
   "metadata": {},
   "outputs": [
    {
     "name": "stdout",
     "output_type": "stream",
     "text": [
      "Epoch 1/30\n",
      "240/240 [==============================] - ETA: 0s - loss: 1.8034 - accuracy: 0.5723\n",
      "Epoch 00001: val_loss improved from inf to 1.13761, saving model to ./model\\mnist_mlp.h5\n",
      "240/240 [==============================] - 4s 16ms/step - loss: 1.8034 - accuracy: 0.5723 - val_loss: 1.1376 - val_accuracy: 0.7756\n",
      "Epoch 2/30\n",
      "237/240 [============================>.] - ETA: 0s - loss: 0.8605 - accuracy: 0.8071\n",
      "Epoch 00002: val_loss improved from 1.13761 to 0.63179, saving model to ./model\\mnist_mlp.h5\n",
      "240/240 [==============================] - 4s 15ms/step - loss: 0.8577 - accuracy: 0.8075 - val_loss: 0.6318 - val_accuracy: 0.8547\n",
      "Epoch 3/30\n",
      "239/240 [============================>.] - ETA: 0s - loss: 0.5664 - accuracy: 0.8605 ETA: \n",
      "Epoch 00003: val_loss improved from 0.63179 to 0.46803, saving model to ./model\\mnist_mlp.h5\n",
      "240/240 [==============================] - 4s 17ms/step - loss: 0.5659 - accuracy: 0.8606 - val_loss: 0.4680 - val_accuracy: 0.8832\n",
      "Epoch 4/30\n",
      "238/240 [============================>.] - ETA: 0s - loss: 0.4531 - accuracy: 0.8816\n",
      "Epoch 00004: val_loss improved from 0.46803 to 0.39434, saving model to ./model\\mnist_mlp.h5\n",
      "240/240 [==============================] - 4s 16ms/step - loss: 0.4530 - accuracy: 0.8815 - val_loss: 0.3943 - val_accuracy: 0.8969\n",
      "Epoch 5/30\n",
      "238/240 [============================>.] - ETA: 0s - loss: 0.3965 - accuracy: 0.8928\n",
      "Epoch 00005: val_loss improved from 0.39434 to 0.35722, saving model to ./model\\mnist_mlp.h5\n",
      "240/240 [==============================] - 4s 15ms/step - loss: 0.3963 - accuracy: 0.8929 - val_loss: 0.3572 - val_accuracy: 0.8996\n",
      "Epoch 6/30\n",
      "237/240 [============================>.] - ETA: 0s - loss: 0.3639 - accuracy: 0.8991\n",
      "Epoch 00006: val_loss improved from 0.35722 to 0.33048, saving model to ./model\\mnist_mlp.h5\n",
      "240/240 [==============================] - 3s 14ms/step - loss: 0.3637 - accuracy: 0.8992 - val_loss: 0.3305 - val_accuracy: 0.9061\n",
      "Epoch 7/30\n",
      "236/240 [============================>.] - ETA: 0s - loss: 0.3421 - accuracy: 0.9037\n",
      "Epoch 00007: val_loss improved from 0.33048 to 0.31319, saving model to ./model\\mnist_mlp.h5\n",
      "240/240 [==============================] - 4s 15ms/step - loss: 0.3419 - accuracy: 0.9037 - val_loss: 0.3132 - val_accuracy: 0.9106\n",
      "Epoch 8/30\n",
      "240/240 [==============================] - ETA: 0s - loss: 0.3255 - accuracy: 0.9073\n",
      "Epoch 00008: val_loss improved from 0.31319 to 0.30207, saving model to ./model\\mnist_mlp.h5\n",
      "240/240 [==============================] - 3s 14ms/step - loss: 0.3255 - accuracy: 0.9073 - val_loss: 0.3021 - val_accuracy: 0.9140\n",
      "Epoch 9/30\n",
      "239/240 [============================>.] - ETA: 0s - loss: 0.3131 - accuracy: 0.9106\n",
      "Epoch 00009: val_loss improved from 0.30207 to 0.29038, saving model to ./model\\mnist_mlp.h5\n",
      "240/240 [==============================] - 3s 14ms/step - loss: 0.3132 - accuracy: 0.9105 - val_loss: 0.2904 - val_accuracy: 0.9179\n",
      "Epoch 10/30\n",
      "238/240 [============================>.] - ETA: 0s - loss: 0.3030 - accuracy: 0.9130\n",
      "Epoch 00010: val_loss improved from 0.29038 to 0.28307, saving model to ./model\\mnist_mlp.h5\n",
      "240/240 [==============================] - 3s 12ms/step - loss: 0.3029 - accuracy: 0.9129 - val_loss: 0.2831 - val_accuracy: 0.9192\n",
      "Epoch 11/30\n",
      "240/240 [==============================] - ETA: 0s - loss: 0.2942 - accuracy: 0.9156\n",
      "Epoch 00011: val_loss improved from 0.28307 to 0.27528, saving model to ./model\\mnist_mlp.h5\n",
      "240/240 [==============================] - 3s 13ms/step - loss: 0.2942 - accuracy: 0.9156 - val_loss: 0.2753 - val_accuracy: 0.9218\n",
      "Epoch 12/30\n",
      "240/240 [==============================] - ETA: 0s - loss: 0.2861 - accuracy: 0.9175\n",
      "Epoch 00012: val_loss improved from 0.27528 to 0.27144, saving model to ./model\\mnist_mlp.h5\n",
      "240/240 [==============================] - 3s 13ms/step - loss: 0.2861 - accuracy: 0.9175 - val_loss: 0.2714 - val_accuracy: 0.9212\n",
      "Epoch 13/30\n",
      "236/240 [============================>.] - ETA: 0s - loss: 0.2802 - accuracy: 0.9191\n",
      "Epoch 00013: val_loss improved from 0.27144 to 0.26438, saving model to ./model\\mnist_mlp.h5\n",
      "240/240 [==============================] - 3s 13ms/step - loss: 0.2794 - accuracy: 0.9192 - val_loss: 0.2644 - val_accuracy: 0.9233\n",
      "Epoch 14/30\n",
      "240/240 [==============================] - ETA: 0s - loss: 0.2726 - accuracy: 0.9211\n",
      "Epoch 00014: val_loss improved from 0.26438 to 0.25925, saving model to ./model\\mnist_mlp.h5\n",
      "240/240 [==============================] - 3s 14ms/step - loss: 0.2726 - accuracy: 0.9211 - val_loss: 0.2593 - val_accuracy: 0.9259\n",
      "Epoch 15/30\n",
      "239/240 [============================>.] - ETA: 0s - loss: 0.2659 - accuracy: 0.9230\n",
      "Epoch 00015: val_loss improved from 0.25925 to 0.25240, saving model to ./model\\mnist_mlp.h5\n",
      "240/240 [==============================] - 4s 17ms/step - loss: 0.2657 - accuracy: 0.9230 - val_loss: 0.2524 - val_accuracy: 0.9275\n",
      "Epoch 16/30\n",
      "239/240 [============================>.] - ETA: 0s - loss: 0.2599 - accuracy: 0.9250\n",
      "Epoch 00016: val_loss improved from 0.25240 to 0.24734, saving model to ./model\\mnist_mlp.h5\n",
      "240/240 [==============================] - 4s 15ms/step - loss: 0.2596 - accuracy: 0.9251 - val_loss: 0.2473 - val_accuracy: 0.9288\n",
      "Epoch 17/30\n",
      "237/240 [============================>.] - ETA: 0s - loss: 0.2526 - accuracy: 0.9270\n",
      "Epoch 00017: val_loss improved from 0.24734 to 0.24244, saving model to ./model\\mnist_mlp.h5\n",
      "240/240 [==============================] - 4s 16ms/step - loss: 0.2529 - accuracy: 0.9269 - val_loss: 0.2424 - val_accuracy: 0.9308\n",
      "Epoch 18/30\n",
      "240/240 [==============================] - ETA: 0s - loss: 0.2469 - accuracy: 0.9282\n",
      "Epoch 00018: val_loss improved from 0.24244 to 0.23765, saving model to ./model\\mnist_mlp.h5\n",
      "240/240 [==============================] - 4s 17ms/step - loss: 0.2469 - accuracy: 0.9282 - val_loss: 0.2377 - val_accuracy: 0.9312\n",
      "Epoch 19/30\n",
      "239/240 [============================>.] - ETA: 0s - loss: 0.2412 - accuracy: 0.9306\n",
      "Epoch 00019: val_loss improved from 0.23765 to 0.23167, saving model to ./model\\mnist_mlp.h5\n",
      "240/240 [==============================] - 4s 16ms/step - loss: 0.2411 - accuracy: 0.9306 - val_loss: 0.2317 - val_accuracy: 0.9341\n",
      "Epoch 20/30\n",
      "240/240 [==============================] - ETA: 0s - loss: 0.2344 - accuracy: 0.9328 ETA: 0s - loss: 0\n",
      "Epoch 00020: val_loss improved from 0.23167 to 0.22592, saving model to ./model\\mnist_mlp.h5\n",
      "240/240 [==============================] - 4s 15ms/step - loss: 0.2344 - accuracy: 0.9328 - val_loss: 0.2259 - val_accuracy: 0.9358\n",
      "Epoch 21/30\n",
      "239/240 [============================>.] - ETA: 0s - loss: 0.2283 - accuracy: 0.9344\n",
      "Epoch 00021: val_loss improved from 0.22592 to 0.22379, saving model to ./model\\mnist_mlp.h5\n",
      "240/240 [==============================] - 4s 16ms/step - loss: 0.2286 - accuracy: 0.9343 - val_loss: 0.2238 - val_accuracy: 0.9362\n",
      "Epoch 22/30\n",
      "240/240 [==============================] - ETA: 0s - loss: 0.2229 - accuracy: 0.9352\n",
      "Epoch 00022: val_loss improved from 0.22379 to 0.21830, saving model to ./model\\mnist_mlp.h5\n",
      "240/240 [==============================] - 4s 16ms/step - loss: 0.2229 - accuracy: 0.9352 - val_loss: 0.2183 - val_accuracy: 0.9381\n",
      "Epoch 23/30\n",
      "239/240 [============================>.] - ETA: 0s - loss: 0.2168 - accuracy: 0.9376 ETA: 0s - loss: 0.2152 - ac\n",
      "Epoch 00023: val_loss improved from 0.21830 to 0.21203, saving model to ./model\\mnist_mlp.h5\n",
      "240/240 [==============================] - 3s 14ms/step - loss: 0.2167 - accuracy: 0.9376 - val_loss: 0.2120 - val_accuracy: 0.9401\n",
      "Epoch 24/30\n",
      "239/240 [============================>.] - ETA: 0s - loss: 0.2103 - accuracy: 0.9396 ETA: 0s - l\n",
      "Epoch 00024: val_loss improved from 0.21203 to 0.20974, saving model to ./model\\mnist_mlp.h5\n",
      "240/240 [==============================] - 3s 14ms/step - loss: 0.2108 - accuracy: 0.9395 - val_loss: 0.2097 - val_accuracy: 0.9407\n",
      "Epoch 25/30\n",
      "239/240 [============================>.] - ETA: 0s - loss: 0.2053 - accuracy: 0.9409\n",
      "Epoch 00025: val_loss improved from 0.20974 to 0.20287, saving model to ./model\\mnist_mlp.h5\n",
      "240/240 [==============================] - 4s 15ms/step - loss: 0.2054 - accuracy: 0.9410 - val_loss: 0.2029 - val_accuracy: 0.9435\n",
      "Epoch 26/30\n",
      "237/240 [============================>.] - ETA: 0s - loss: 0.2002 - accuracy: 0.9425\n",
      "Epoch 00026: val_loss improved from 0.20287 to 0.19829, saving model to ./model\\mnist_mlp.h5\n",
      "240/240 [==============================] - 4s 15ms/step - loss: 0.2002 - accuracy: 0.9425 - val_loss: 0.1983 - val_accuracy: 0.9450\n",
      "Epoch 27/30\n",
      "239/240 [============================>.] - ETA: 0s - loss: 0.1950 - accuracy: 0.9448\n",
      "Epoch 00027: val_loss improved from 0.19829 to 0.19669, saving model to ./model\\mnist_mlp.h5\n",
      "240/240 [==============================] - 3s 13ms/step - loss: 0.1949 - accuracy: 0.9448 - val_loss: 0.1967 - val_accuracy: 0.9445\n",
      "Epoch 28/30\n",
      "237/240 [============================>.] - ETA: 0s - loss: 0.1899 - accuracy: 0.9457 ETA: 0s - loss: 0.1903 - accuracy: 0.\n",
      "Epoch 00028: val_loss improved from 0.19669 to 0.19072, saving model to ./model\\mnist_mlp.h5\n",
      "240/240 [==============================] - 3s 14ms/step - loss: 0.1899 - accuracy: 0.9457 - val_loss: 0.1907 - val_accuracy: 0.9467\n",
      "Epoch 29/30\n",
      "237/240 [============================>.] - ETA: 0s - loss: 0.1851 - accuracy: 0.9475\n",
      "Epoch 00029: val_loss improved from 0.19072 to 0.18673, saving model to ./model\\mnist_mlp.h5\n",
      "240/240 [==============================] - 3s 13ms/step - loss: 0.1849 - accuracy: 0.9475 - val_loss: 0.1867 - val_accuracy: 0.9483\n",
      "Epoch 30/30\n",
      "240/240 [==============================] - ETA: 0s - loss: 0.1800 - accuracy: 0.9485\n",
      "Epoch 00030: val_loss improved from 0.18673 to 0.18271, saving model to ./model\\mnist_mlp.h5\n",
      "240/240 [==============================] - 3s 12ms/step - loss: 0.1800 - accuracy: 0.9485 - val_loss: 0.1827 - val_accuracy: 0.9497\n"
     ]
    }
   ],
   "source": [
    "model = Sequential()\n",
    "model.add(Dense(512, input_dim=X_train.shape[1], activation='relu'))\n",
    "model.add(Dense(10, activation='softmax'))\n",
    "\n",
    "model.compile(loss='categorical_crossentropy', optimizer='adam', metrics=['accuracy'])\n",
    "\n",
    "model_dir = './model/'\n",
    "\n",
    "if not os.path.exists(model_dir):\n",
    "    os.mkdir(model_dir)\n",
    "\n",
    "modelpath = model_dir + 'mnist_mlp.h5'\n",
    "\n",
    "checkpointer = ModelCheckpoint(filepath = modelpath, monitor='val_loss', verbose=1, save_best_only=True)\n",
    "\n",
    "early_stop = EarlyStopping(monitor='val_loss', patience=10)\n",
    "\n",
    "history = model.fit(X_train, y_train, validation_split=0.2, epochs=30, batch_size=200, callbacks=[early_stop, checkpointer])"
   ]
  },
  {
   "cell_type": "code",
   "execution_count": 10,
   "metadata": {},
   "outputs": [
    {
     "name": "stdout",
     "output_type": "stream",
     "text": [
      "313/313 [==============================] - 1s 3ms/step - loss: 0.1831 - accuracy: 0.9475\n",
      "모델 정확도 : 0.9475\n"
     ]
    }
   ],
   "source": [
    "print(\"모델 정확도 : %.4f\" % model.evaluate(X_test, y_test)[1])"
   ]
  },
  {
   "cell_type": "code",
   "execution_count": 11,
   "metadata": {},
   "outputs": [
    {
     "data": {
      "image/png": "[encoded data removed]",
      "text/plain": [
       "<Figure size 432x288 with 1 Axes>"
      ]
     },
     "metadata": {
      "needs_background": "light"
     },
     "output_type": "display_data"
    }
   ],
   "source": [
    "y_vloss = history.history['val_loss']\n",
    "y_loss = history.history['loss']\n",
    "\n",
    "x_len = np.arange(len(y_loss))\n",
    "\n",
    "plt.plot(x_len, y_vloss, marker='.', c='red', label='test_set_loss')\n",
    "plt.plot(x_len, y_loss, marker='.', c='blue', label='train_set_loss')\n",
    "plt.legend()\n",
    "plt.xlabel(\"epochs\")\n",
    "plt.ylabel(\"loss\")\n",
    "plt.grid()\n",
    "plt.show()"
   ]
  },
  {
   "cell_type": "code",
   "execution_count": null,
   "metadata": {},
   "outputs": [],
   "source": []
  }
 ],
 "metadata": {
  "kernelspec": {
   "display_name": "Python 3",
   "language": "python",
   "name": "python3"
  },
  "language_info": {
   "codemirror_mode": {
    "name": "ipython",
    "version": 3
   },
   "file_extension": ".py",
   "mimetype": "text/x-python",
   "name": "python",
   "nbconvert_exporter": "python",
   "pygments_lexer": "ipython3",
   "version": "3.7.9"
  }
 },
 "nbformat": 4,
 "nbformat_minor": 2
}
