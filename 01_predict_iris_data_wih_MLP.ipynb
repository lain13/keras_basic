{
 "cells": [
  {
   "cell_type": "code",
   "execution_count": 1,
   "metadata": {},
   "outputs": [],
   "source": [
    "# 0. 사용할 패키지 불러오기\n",
    "import pandas as pd\n",
    "import numpy as np\n",
    "import tensorflow as tf\n",
    "import tensorflow.keras as keras\n",
    "from tensorflow.keras.models import Sequential\n",
    "from tensorflow.keras.layers import Dense\n",
    "from sklearn.model_selection import train_test_split\n",
    "from sklearn.preprocessing import LabelEncoder\n",
    "from tensorflow.keras.callbacks import ModelCheckpoint, EarlyStopping\n",
    "from tensorflow.keras.utils import to_categorical\n",
    "from tensorflow.python.keras.utils.vis_utils import plot_model\n",
    "import matplotlib.pyplot as plt\n",
    "import os"
   ]
  },
  {
   "cell_type": "code",
   "execution_count": 2,
   "metadata": {},
   "outputs": [
    {
     "name": "stdout",
     "output_type": "stream",
     "text": [
      "   sepal_length  sepal_width  petal_length  petal_width      species\n",
      "0           5.1          3.5           1.4          0.2  Iris-setosa\n",
      "1           4.9          3.0           1.4          0.2  Iris-setosa\n",
      "2           4.7          3.2           1.3          0.2  Iris-setosa\n",
      "3           4.6          3.1           1.5          0.2  Iris-setosa\n",
      "4           5.0          3.6           1.4          0.2  Iris-setosa\n"
     ]
    }
   ],
   "source": [
    "# 1. 데이터셋 생성하기\n",
    "# 데이터셋 불러오기\n",
    "dataframe = pd.read_csv('./dataset/iris.csv')\n",
    "print(dataframe.head())"
   ]
  },
  {
   "cell_type": "code",
   "execution_count": 3,
   "metadata": {},
   "outputs": [
    {
     "name": "stdout",
     "output_type": "stream",
     "text": [
      "96 train examples\n",
      "24 validation examples\n",
      "30 test examples\n",
      "species {'Iris-versicolor', 'Iris-setosa', 'Iris-virginica'}\n"
     ]
    }
   ],
   "source": [
    "# 데이터 프레임을 훈련, 검증 및 테스트로 분할하기\n",
    "train, test = train_test_split(dataframe, test_size=0.2)\n",
    "train, val = train_test_split(train, test_size=0.2)\n",
    "print(len(train), 'train examples')\n",
    "print(len(val), 'validation examples')\n",
    "print(len(test), 'test examples')\n",
    "\n",
    "print('species', set(dataframe['species']))"
   ]
  },
  {
   "cell_type": "code",
   "execution_count": 4,
   "metadata": {},
   "outputs": [
    {
     "data": {
      "text/plain": [
       "LabelEncoder()"
      ]
     },
     "execution_count": 4,
     "metadata": {},
     "output_type": "execute_result"
    }
   ],
   "source": [
    "# 원핫 인코딩으로 바꿔준다\n",
    "encoder = LabelEncoder()\n",
    "encoder.fit(['Iris-setosa', 'Iris-versicolor', 'Iris-virginica'])"
   ]
  },
  {
   "cell_type": "code",
   "execution_count": 5,
   "metadata": {},
   "outputs": [
    {
     "name": "stdout",
     "output_type": "stream",
     "text": [
      "[0 1 2]\n",
      "[[1. 0. 0.]\n",
      " [0. 1. 0.]\n",
      " [0. 0. 1.]]\n"
     ]
    }
   ],
   "source": [
    "print(encoder.transform(['Iris-setosa', 'Iris-versicolor', 'Iris-virginica']))\n",
    "print(to_categorical(encoder.transform(['Iris-setosa', 'Iris-versicolor', 'Iris-virginica'])))"
   ]
  },
  {
   "cell_type": "code",
   "execution_count": 6,
   "metadata": {},
   "outputs": [],
   "source": [
    "# tf.data를 사용하여 입력 파이프라인 만들기\n",
    "def df_to_dataset(dataframe, shuffle=True, batch_size=32):\n",
    "    dataframe = dataframe.copy()\n",
    "    labels = to_categorical(encoder.transform(dataframe.pop('species')))\n",
    "    ds = tf.data.Dataset.from_tensor_slices((\n",
    "        {\n",
    "            'sepal_length_input': dataframe['sepal_length'],\n",
    "            'sepal_width_input': dataframe['sepal_width'],\n",
    "            'petal_length_input': dataframe['petal_length'],\n",
    "            'petal_width_input': dataframe['petal_width'],\n",
    "        },\n",
    "        {\n",
    "            'species_output':labels,\n",
    "        }))\n",
    "    if shuffle:\n",
    "        ds = ds.shuffle(buffer_size=len(dataframe))\n",
    "    ds = ds.batch(batch_size)\n",
    "    ds = ds.prefetch(batch_size)\n",
    "    return ds"
   ]
  },
  {
   "cell_type": "code",
   "execution_count": 7,
   "metadata": {},
   "outputs": [],
   "source": [
    "batch_size = 5\n",
    "train_ds = df_to_dataset(train, batch_size=batch_size)\n",
    "val_ds = df_to_dataset(val, shuffle=False, batch_size=batch_size)\n",
    "test_ds = df_to_dataset(test, shuffle=False, batch_size=batch_size)"
   ]
  },
  {
   "cell_type": "code",
   "execution_count": 8,
   "metadata": {},
   "outputs": [
    {
     "name": "stdout",
     "output_type": "stream",
     "text": [
      "Every feature: ['sepal_length_input', 'sepal_width_input', 'petal_length_input', 'petal_width_input']\n",
      "A batch of sepal_lengths: tf.Tensor([1.4 5.7 5.2 5.1 1.7], shape=(5,), dtype=float64)\n",
      "A batch of targets: {'species_output': <tf.Tensor: shape=(5, 3), dtype=float32, numpy=\n",
      "array([[1., 0., 0.],\n",
      "       [0., 0., 1.],\n",
      "       [0., 0., 1.],\n",
      "       [0., 1., 0.],\n",
      "       [1., 0., 0.]], dtype=float32)>}\n"
     ]
    }
   ],
   "source": [
    "[(train_features, label_batch)] = train_ds.take(1)\n",
    "print('Every feature:', list(train_features.keys()))\n",
    "print('A batch of sepal_lengths:', train_features['petal_length_input'])\n",
    "print('A batch of targets:', label_batch)"
   ]
  },
  {
   "cell_type": "code",
   "execution_count": 9,
   "metadata": {},
   "outputs": [],
   "source": [
    "# 2. 모델 구성하기\n",
    "sepal_length_input = tf.keras.layers.Input(shape=(1, ), dtype='float32', name='sepal_length_input')\n",
    "sepal_width_input = tf.keras.layers.Input(shape=(1, ), dtype='float32', name='sepal_width_input')\n",
    "petal_length_input = tf.keras.layers.Input(shape=(1, ), dtype='float32', name='petal_length_input')\n",
    "petal_width_input = tf.keras.layers.Input(shape=(1, ), dtype='float32', name='petal_width_input')\n",
    "\n",
    "concatenated = tf.keras.layers.Concatenate(axis=-1, name='concatenated')([sepal_length_input, sepal_width_input, petal_length_input, petal_width_input])\n",
    "\n",
    "dense = tf.keras.layers.Dense(units=8, activation='relu', name='iris_dense')(concatenated)\n",
    "output = tf.keras.layers.Dense(units=len(encoder.classes_), activation='softmax', name='species_output')(dense)"
   ]
  },
  {
   "cell_type": "code",
   "execution_count": 10,
   "metadata": {},
   "outputs": [
    {
     "name": "stdout",
     "output_type": "stream",
     "text": [
      "Model: \"iris_classification_model\"\n",
      "__________________________________________________________________________________________________\n",
      "Layer (type)                    Output Shape         Param #     Connected to                     \n",
      "==================================================================================================\n",
      "sepal_length_input (InputLayer) [(None, 1)]          0                                            \n",
      "__________________________________________________________________________________________________\n",
      "sepal_width_input (InputLayer)  [(None, 1)]          0                                            \n",
      "__________________________________________________________________________________________________\n",
      "petal_length_input (InputLayer) [(None, 1)]          0                                            \n",
      "__________________________________________________________________________________________________\n",
      "petal_width_input (InputLayer)  [(None, 1)]          0                                            \n",
      "__________________________________________________________________________________________________\n",
      "concatenated (Concatenate)      (None, 4)            0           sepal_length_input[0][0]         \n",
      "                                                                 sepal_width_input[0][0]          \n",
      "                                                                 petal_length_input[0][0]         \n",
      "                                                                 petal_width_input[0][0]          \n",
      "__________________________________________________________________________________________________\n",
      "iris_dense (Dense)              (None, 8)            40          concatenated[0][0]               \n",
      "__________________________________________________________________________________________________\n",
      "species_output (Dense)          (None, 3)            27          iris_dense[0][0]                 \n",
      "==================================================================================================\n",
      "Total params: 67\n",
      "Trainable params: 67\n",
      "Non-trainable params: 0\n",
      "__________________________________________________________________________________________________\n"
     ]
    }
   ],
   "source": [
    "model = tf.keras.models.Model(\n",
    "    inputs={\n",
    "        'sepal_length_input': sepal_length_input,\n",
    "        'sepal_width_input': sepal_width_input,\n",
    "        'petal_length_input': petal_length_input,\n",
    "        'petal_width_input': petal_width_input\n",
    "    },\n",
    "    outputs={'species_output': output},\n",
    "    name='iris_classification_model'\n",
    ")\n",
    "model.summary()"
   ]
  },
  {
   "cell_type": "code",
   "execution_count": 11,
   "metadata": {},
   "outputs": [
    {
     "data": {
      "image/png": "[encoded data removed]",
      "text/plain": [
       "<IPython.core.display.Image object>"
      ]
     },
     "execution_count": 11,
     "metadata": {},
     "output_type": "execute_result"
    }
   ],
   "source": [
    "# rankdir='LR' is used to make the graph horizontal.\n",
    "tf.keras.utils.plot_model(model, show_shapes=True, rankdir=\"LR\")"
   ]
  },
  {
   "cell_type": "code",
   "execution_count": 12,
   "metadata": {},
   "outputs": [],
   "source": [
    "# 3. 모델 학습과정 설정하기\n",
    "model.compile(loss='categorical_crossentropy', optimizer='adam', metrics=['accuracy'])"
   ]
  },
  {
   "cell_type": "code",
   "execution_count": 13,
   "metadata": {},
   "outputs": [],
   "source": [
    "model_dir = './model/'\n",
    "if not os.path.exists(model_dir):\n",
    "    os.mkdir(model_dir)\n",
    "\n",
    "model_filepath = model_dir + 'iris.h5'\n",
    "checkpointer = ModelCheckpoint(filepath=model_filepath, monitor='val_loss', verbose=1, save_best_only=True)\n",
    "\n",
    "# 학습의 자동중단! 3번동안 나아지지 않으면 stop!\n",
    "early_stop = EarlyStopping(monitor='val_loss', patience=3)"
   ]
  },
  {
   "cell_type": "code",
   "execution_count": 14,
   "metadata": {},
   "outputs": [
    {
     "name": "stdout",
     "output_type": "stream",
     "text": [
      "Epoch 1/32\n",
      " 1/20 [>.............................] - ETA: 0s - loss: 5.1263 - accuracy: 0.2000\n",
      "Epoch 00001: val_loss improved from inf to 1.65878, saving model to ./model\\iris.h5\n",
      "20/20 [==============================] - 0s 20ms/step - loss: 2.9003 - accuracy: 0.4271 - val_loss: 1.6588 - val_accuracy: 0.7500\n",
      "Epoch 2/32\n",
      " 1/20 [>.............................] - ETA: 0s - loss: 2.7019 - accuracy: 0.6000\n",
      "Epoch 00002: val_loss improved from 1.65878 to 1.34659, saving model to ./model\\iris.h5\n",
      "20/20 [==============================] - 0s 5ms/step - loss: 2.3611 - accuracy: 0.6146 - val_loss: 1.3466 - val_accuracy: 0.7917\n",
      "Epoch 3/32\n",
      " 1/20 [>.............................] - ETA: 0s - loss: 3.2793 - accuracy: 0.4000\n",
      "Epoch 00003: val_loss improved from 1.34659 to 1.10257, saving model to ./model\\iris.h5\n",
      "20/20 [==============================] - 0s 5ms/step - loss: 1.9799 - accuracy: 0.6146 - val_loss: 1.1026 - val_accuracy: 0.7917\n",
      "Epoch 4/32\n",
      " 1/20 [>.............................] - ETA: 0s - loss: 0.9289 - accuracy: 0.8000\n",
      "Epoch 00004: val_loss improved from 1.10257 to 0.90839, saving model to ./model\\iris.h5\n",
      "20/20 [==============================] - 0s 4ms/step - loss: 1.6004 - accuracy: 0.6146 - val_loss: 0.9084 - val_accuracy: 0.7917\n",
      "Epoch 5/32\n",
      " 1/20 [>.............................] - ETA: 0s - loss: 2.0225 - accuracy: 0.4000\n",
      "Epoch 00005: val_loss improved from 0.90839 to 0.75099, saving model to ./model\\iris.h5\n",
      "20/20 [==============================] - 0s 4ms/step - loss: 1.2953 - accuracy: 0.6146 - val_loss: 0.7510 - val_accuracy: 0.7917\n",
      "Epoch 6/32\n",
      " 1/20 [>.............................] - ETA: 0s - loss: 0.2780 - accuracy: 1.0000\n",
      "Epoch 00006: val_loss improved from 0.75099 to 0.64831, saving model to ./model\\iris.h5\n",
      "20/20 [==============================] - 0s 6ms/step - loss: 1.0373 - accuracy: 0.6146 - val_loss: 0.6483 - val_accuracy: 0.7917\n",
      "Epoch 7/32\n",
      " 1/20 [>.............................] - ETA: 0s - loss: 1.1831 - accuracy: 0.6000\n",
      "Epoch 00007: val_loss improved from 0.64831 to 0.58467, saving model to ./model\\iris.h5\n",
      "20/20 [==============================] - 0s 5ms/step - loss: 0.8549 - accuracy: 0.6146 - val_loss: 0.5847 - val_accuracy: 0.7917\n",
      "Epoch 8/32\n",
      " 1/20 [>.............................] - ETA: 0s - loss: 0.5868 - accuracy: 0.8000\n",
      "Epoch 00008: val_loss improved from 0.58467 to 0.56872, saving model to ./model\\iris.h5\n",
      "20/20 [==============================] - 0s 5ms/step - loss: 0.7159 - accuracy: 0.6771 - val_loss: 0.5687 - val_accuracy: 0.9167\n",
      "Epoch 9/32\n",
      "12/20 [=================>............] - ETA: 0s - loss: 0.6301 - accuracy: 0.8833\n",
      "Epoch 00009: val_loss did not improve from 0.56872\n",
      "20/20 [==============================] - 0s 5ms/step - loss: 0.6357 - accuracy: 0.8958 - val_loss: 0.5861 - val_accuracy: 1.0000\n",
      "Epoch 10/32\n",
      " 1/20 [>.............................] - ETA: 0s - loss: 0.6669 - accuracy: 1.0000\n",
      "Epoch 00010: val_loss did not improve from 0.56872\n",
      "20/20 [==============================] - 0s 3ms/step - loss: 0.6056 - accuracy: 0.9583 - val_loss: 0.5712 - val_accuracy: 1.0000\n",
      "Epoch 11/32\n",
      " 1/20 [>.............................] - ETA: 0s - loss: 0.5523 - accuracy: 1.0000\n",
      "Epoch 00011: val_loss improved from 0.56872 to 0.52986, saving model to ./model\\iris.h5\n",
      "20/20 [==============================] - 0s 5ms/step - loss: 0.5806 - accuracy: 0.9271 - val_loss: 0.5299 - val_accuracy: 1.0000\n",
      "Epoch 12/32\n",
      " 1/20 [>.............................] - ETA: 0s - loss: 0.4193 - accuracy: 1.0000\n",
      "Epoch 00012: val_loss improved from 0.52986 to 0.51733, saving model to ./model\\iris.h5\n",
      "20/20 [==============================] - 0s 7ms/step - loss: 0.5574 - accuracy: 0.9271 - val_loss: 0.5173 - val_accuracy: 1.0000\n",
      "Epoch 13/32\n",
      " 1/20 [>.............................] - ETA: 0s - loss: 0.3885 - accuracy: 1.0000\n",
      "Epoch 00013: val_loss did not improve from 0.51733\n",
      "20/20 [==============================] - 0s 3ms/step - loss: 0.5388 - accuracy: 0.9479 - val_loss: 0.5224 - val_accuracy: 1.0000\n",
      "Epoch 14/32\n",
      " 1/20 [>.............................] - ETA: 0s - loss: 0.5393 - accuracy: 1.0000\n",
      "Epoch 00014: val_loss improved from 0.51733 to 0.51410, saving model to ./model\\iris.h5\n",
      "20/20 [==============================] - 0s 4ms/step - loss: 0.5190 - accuracy: 0.9688 - val_loss: 0.5141 - val_accuracy: 0.9583\n",
      "Epoch 15/32\n",
      "20/20 [==============================] - ETA: 0s - loss: 0.5045 - accuracy: 0.9583\n",
      "Epoch 00015: val_loss improved from 0.51410 to 0.47990, saving model to ./model\\iris.h5\n",
      "20/20 [==============================] - 0s 8ms/step - loss: 0.5045 - accuracy: 0.9583 - val_loss: 0.4799 - val_accuracy: 1.0000\n",
      "Epoch 16/32\n",
      " 1/20 [>.............................] - ETA: 0s - loss: 0.3777 - accuracy: 1.0000\n",
      "Epoch 00016: val_loss improved from 0.47990 to 0.46052, saving model to ./model\\iris.h5\n",
      "20/20 [==============================] - 0s 4ms/step - loss: 0.4898 - accuracy: 0.9479 - val_loss: 0.4605 - val_accuracy: 1.0000\n",
      "Epoch 17/32\n",
      "16/20 [=======================>......] - ETA: 0s - loss: 0.4785 - accuracy: 0.9500\n",
      "Epoch 00017: val_loss did not improve from 0.46052\n",
      "20/20 [==============================] - 0s 6ms/step - loss: 0.4762 - accuracy: 0.9479 - val_loss: 0.4635 - val_accuracy: 1.0000\n",
      "Epoch 18/32\n",
      " 1/20 [>.............................] - ETA: 0s - loss: 0.5165 - accuracy: 0.8000\n",
      "Epoch 00018: val_loss did not improve from 0.46052\n",
      "20/20 [==============================] - 0s 3ms/step - loss: 0.4639 - accuracy: 0.9583 - val_loss: 0.4709 - val_accuracy: 0.9167\n",
      "Epoch 19/32\n",
      "18/20 [==========================>...] - ETA: 0s - loss: 0.4637 - accuracy: 0.9556\n",
      "Epoch 00019: val_loss improved from 0.46052 to 0.44509, saving model to ./model\\iris.h5\n",
      "20/20 [==============================] - 0s 11ms/step - loss: 0.4545 - accuracy: 0.9583 - val_loss: 0.4451 - val_accuracy: 1.0000\n",
      "Epoch 20/32\n",
      " 1/20 [>.............................] - ETA: 0s - loss: 0.2850 - accuracy: 1.0000\n",
      "Epoch 00020: val_loss improved from 0.44509 to 0.44024, saving model to ./model\\iris.h5\n",
      "20/20 [==============================] - 0s 5ms/step - loss: 0.4399 - accuracy: 0.9688 - val_loss: 0.4402 - val_accuracy: 1.0000\n",
      "Epoch 21/32\n",
      " 1/20 [>.............................] - ETA: 0s - loss: 0.3591 - accuracy: 1.0000\n",
      "Epoch 00021: val_loss improved from 0.44024 to 0.43871, saving model to ./model\\iris.h5\n",
      "20/20 [==============================] - 0s 7ms/step - loss: 0.4285 - accuracy: 0.9792 - val_loss: 0.4387 - val_accuracy: 0.9167\n",
      "Epoch 22/32\n",
      " 1/20 [>.............................] - ETA: 0s - loss: 0.4071 - accuracy: 1.0000\n",
      "Epoch 00022: val_loss did not improve from 0.43871\n",
      "20/20 [==============================] - 0s 3ms/step - loss: 0.4193 - accuracy: 0.9583 - val_loss: 0.4401 - val_accuracy: 0.9167\n",
      "Epoch 23/32\n",
      " 1/20 [>.............................] - ETA: 0s - loss: 0.4507 - accuracy: 1.0000\n",
      "Epoch 00023: val_loss improved from 0.43871 to 0.43262, saving model to ./model\\iris.h5\n",
      "20/20 [==============================] - 0s 6ms/step - loss: 0.4118 - accuracy: 0.9583 - val_loss: 0.4326 - val_accuracy: 0.9167\n",
      "Epoch 24/32\n",
      " 1/20 [>.............................] - ETA: 0s - loss: 0.2707 - accuracy: 1.0000\n",
      "Epoch 00024: val_loss improved from 0.43262 to 0.42851, saving model to ./model\\iris.h5\n",
      "20/20 [==============================] - 0s 6ms/step - loss: 0.4027 - accuracy: 0.9583 - val_loss: 0.4285 - val_accuracy: 0.8750\n",
      "Epoch 25/32\n",
      " 7/20 [=========>....................] - ETA: 0s - loss: 0.3920 - accuracy: 0.9429\n",
      "Epoch 00025: val_loss improved from 0.42851 to 0.38836, saving model to ./model\\iris.h5\n",
      "20/20 [==============================] - 0s 7ms/step - loss: 0.3940 - accuracy: 0.9583 - val_loss: 0.3884 - val_accuracy: 1.0000\n",
      "Epoch 26/32\n",
      " 1/20 [>.............................] - ETA: 0s - loss: 0.4203 - accuracy: 1.0000\n",
      "Epoch 00026: val_loss did not improve from 0.38836\n",
      "20/20 [==============================] - 0s 4ms/step - loss: 0.3842 - accuracy: 0.9583 - val_loss: 0.4079 - val_accuracy: 0.9167\n",
      "Epoch 27/32\n",
      " 1/20 [>.............................] - ETA: 0s - loss: 0.3969 - accuracy: 1.0000\n",
      "Epoch 00027: val_loss did not improve from 0.38836\n",
      "20/20 [==============================] - 0s 3ms/step - loss: 0.3771 - accuracy: 0.9583 - val_loss: 0.3983 - val_accuracy: 0.9167\n",
      "Epoch 28/32\n"
     ]
    },
    {
     "name": "stdout",
     "output_type": "stream",
     "text": [
      " 1/20 [>.............................] - ETA: 0s - loss: 0.3524 - accuracy: 1.0000\n",
      "Epoch 00028: val_loss did not improve from 0.38836\n",
      "20/20 [==============================] - 0s 3ms/step - loss: 0.3689 - accuracy: 0.9688 - val_loss: 0.4042 - val_accuracy: 0.8750\n"
     ]
    }
   ],
   "source": [
    "# 4. 모델 학습시키기\n",
    "#history = model.fit(X_train, y_train, validation_data=(X_test, y_test), epochs=200, batch_size=10, callbacks=[checkpointer, early_stop])\n",
    "history = model.fit(train_ds, epochs=32, validation_data=val_ds, callbacks=[checkpointer, early_stop])"
   ]
  },
  {
   "cell_type": "code",
   "execution_count": 15,
   "metadata": {},
   "outputs": [
    {
     "name": "stdout",
     "output_type": "stream",
     "text": [
      "6/6 [==============================] - 0s 1ms/step - loss: 0.3590 - accuracy: 0.9667\n",
      "정확도 : 0.97 \n"
     ]
    }
   ],
   "source": [
    "# 6. 모델 평가하기\n",
    "print(\"정확도 : %.2f \" %(model.evaluate(test_ds)[1]))"
   ]
  },
  {
   "cell_type": "code",
   "execution_count": 16,
   "metadata": {},
   "outputs": [
    {
     "data": {
      "image/png": "[encoded data removed]",
      "text/plain": [
       "<Figure size 432x288 with 1 Axes>"
      ]
     },
     "metadata": {
      "needs_background": "light"
     },
     "output_type": "display_data"
    }
   ],
   "source": [
    "# 5. 학습과정 살펴보기\n",
    "y_vloss = history.history['val_loss']\n",
    "y_loss = history.history['loss']\n",
    "\n",
    "x_len = np.arange(len(y_loss))\n",
    "\n",
    "plt.plot(x_len, y_vloss, marker='.', c='red', label='val_set_loss')\n",
    "plt.plot(x_len, y_loss, marker='.', c='blue', label='train_set_oss')\n",
    "plt.legend()\n",
    "plt.xlabel('epochs')\n",
    "plt.ylabel('loss')\n",
    "plt.grid()\n",
    "plt.show()"
   ]
  },
  {
   "cell_type": "code",
   "execution_count": 17,
   "metadata": {},
   "outputs": [
    {
     "data": {
      "text/plain": [
       "{'species_output': array([[0.7980987 , 0.18881296, 0.01308829],\n",
       "        [0.03580205, 0.6901463 , 0.27405158],\n",
       "        [0.8315946 , 0.15806124, 0.01034426],\n",
       "        [0.78839797, 0.19758123, 0.01402074],\n",
       "        [0.02681114, 0.454842  , 0.5183469 ]], dtype=float32)}"
      ]
     },
     "execution_count": 17,
     "metadata": {},
     "output_type": "execute_result"
    }
   ],
   "source": [
    "model.predict(test_ds.take(1))"
   ]
  },
  {
   "cell_type": "markdown",
   "metadata": {},
   "source": [
    "잘 학습되는 것을 볼 수 있다."
   ]
  }
 ],
 "metadata": {
  "kernelspec": {
   "display_name": "Python 3",
   "language": "python",
   "name": "python3"
  },
  "language_info": {
   "codemirror_mode": {
    "name": "ipython",
    "version": 3
   },
   "file_extension": ".py",
   "mimetype": "text/x-python",
   "name": "python",
   "nbconvert_exporter": "python",
   "pygments_lexer": "ipython3",
   "version": "3.7.9"
  }
 },
 "nbformat": 4,
 "nbformat_minor": 2
}
