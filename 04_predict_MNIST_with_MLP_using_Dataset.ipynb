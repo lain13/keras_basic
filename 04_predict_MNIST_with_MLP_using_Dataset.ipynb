{
 "cells": [
  {
   "cell_type": "code",
   "execution_count": 1,
   "id": "minor-coverage",
   "metadata": {},
   "outputs": [],
   "source": [
    "import numpy as np\n",
    "import tensorflow as tf"
   ]
  },
  {
   "cell_type": "code",
   "execution_count": 2,
   "id": "elementary-mongolia",
   "metadata": {},
   "outputs": [],
   "source": [
    "DATA_URL = 'https://storage.googleapis.com/tensorflow/tf-keras-datasets/mnist.npz'\n",
    "\n",
    "path = tf.keras.utils.get_file('mnist.npz', DATA_URL)\n",
    "with np.load(path) as data:\n",
    "  train_examples = data['x_train']\n",
    "  train_labels = data['y_train']\n",
    "  test_examples = data['x_test']\n",
    "  test_labels = data['y_test']"
   ]
  },
  {
   "cell_type": "code",
   "execution_count": 3,
   "id": "handmade-classification",
   "metadata": {},
   "outputs": [],
   "source": [
    "train_dataset = tf.data.Dataset.from_tensor_slices(({'image_input':train_examples}, {'label_output':train_labels}))\n",
    "test_dataset = tf.data.Dataset.from_tensor_slices(({'image_input':test_examples}, {'label_output':test_labels}))"
   ]
  },
  {
   "cell_type": "code",
   "execution_count": 4,
   "id": "exotic-honolulu",
   "metadata": {},
   "outputs": [],
   "source": [
    "BATCH_SIZE = 64\n",
    "SHUFFLE_BUFFER_SIZE = 100\n",
    "\n",
    "train_dataset = train_dataset.shuffle(SHUFFLE_BUFFER_SIZE).batch(BATCH_SIZE)\n",
    "test_dataset = test_dataset.batch(BATCH_SIZE)"
   ]
  },
  {
   "cell_type": "code",
   "execution_count": 5,
   "id": "prerequisite-december",
   "metadata": {},
   "outputs": [],
   "source": [
    "input = tf.keras.layers.Input(shape=(28, 28), dtype='float32', name='image_input')\n",
    "flatten = tf.keras.layers.Flatten(name='mnist_flatten')(input)\n",
    "dense = tf.keras.layers.Dense(units=128, activation='relu', name='mnist_dense')(flatten)\n",
    "output = tf.keras.layers.Dense(units=10, activation='softmax', name='label_output')(dense)"
   ]
  },
  {
   "cell_type": "code",
   "execution_count": 6,
   "id": "harmful-operator",
   "metadata": {},
   "outputs": [],
   "source": [
    "model = tf.keras.models.Model(\n",
    "    inputs={'image_input': input},\n",
    "    outputs={'label_output':output},\n",
    "    name='mnist_classification_model'\n",
    ")"
   ]
  },
  {
   "cell_type": "code",
   "execution_count": 7,
   "id": "artistic-paper",
   "metadata": {},
   "outputs": [],
   "source": [
    "model.compile(optimizer=tf.keras.optimizers.RMSprop(),\n",
    "              loss=tf.keras.losses.SparseCategoricalCrossentropy(from_logits=True),\n",
    "              metrics=['sparse_categorical_accuracy'])"
   ]
  },
  {
   "cell_type": "code",
   "execution_count": 8,
   "id": "substantial-linux",
   "metadata": {},
   "outputs": [
    {
     "name": "stdout",
     "output_type": "stream",
     "text": [
      "Epoch 1/10\n",
      "938/938 [==============================] - 4s 4ms/step - loss: 2.2388 - sparse_categorical_accuracy: 0.2222\n",
      "Epoch 2/10\n",
      "938/938 [==============================] - 4s 4ms/step - loss: 2.2075 - sparse_categorical_accuracy: 0.2535\n",
      "Epoch 3/10\n",
      "938/938 [==============================] - 4s 5ms/step - loss: 2.2009 - sparse_categorical_accuracy: 0.2602\n",
      "Epoch 4/10\n",
      "938/938 [==============================] - 4s 5ms/step - loss: 2.2008 - sparse_categorical_accuracy: 0.2603\n",
      "Epoch 5/10\n",
      "938/938 [==============================] - 4s 4ms/step - loss: 2.2077 - sparse_categorical_accuracy: 0.2534\n",
      "Epoch 6/10\n",
      "938/938 [==============================] - 4s 4ms/step - loss: 2.1942 - sparse_categorical_accuracy: 0.2669\n",
      "Epoch 7/10\n",
      "938/938 [==============================] - 4s 4ms/step - loss: 2.1929 - sparse_categorical_accuracy: 0.2682\n",
      "Epoch 8/10\n",
      "938/938 [==============================] - 4s 5ms/step - loss: 2.1941 - sparse_categorical_accuracy: 0.2671\n",
      "Epoch 9/10\n",
      "938/938 [==============================] - 4s 4ms/step - loss: 2.1689 - sparse_categorical_accuracy: 0.2923\n",
      "Epoch 10/10\n",
      "938/938 [==============================] - 4s 5ms/step - loss: 2.1124 - sparse_categorical_accuracy: 0.3487A: 1s - loss: 2.1135 - sparse_c\n"
     ]
    },
    {
     "data": {
      "text/plain": [
       "<tensorflow.python.keras.callbacks.History at 0x2964f339688>"
      ]
     },
     "execution_count": 8,
     "metadata": {},
     "output_type": "execute_result"
    }
   ],
   "source": [
    "model.fit(train_dataset, epochs=10)"
   ]
  },
  {
   "cell_type": "code",
   "execution_count": 9,
   "id": "exciting-bookmark",
   "metadata": {},
   "outputs": [
    {
     "name": "stdout",
     "output_type": "stream",
     "text": [
      "313/313 [==============================] - 1s 2ms/step - loss: 2.0965 - sparse_categorical_accuracy: 0.3646\n"
     ]
    },
    {
     "data": {
      "text/plain": [
       "[2.09651517868042, 0.3646000027656555]"
      ]
     },
     "execution_count": 9,
     "metadata": {},
     "output_type": "execute_result"
    }
   ],
   "source": [
    "model.evaluate(x={'image_input':test_examples}, y={'label_output':test_labels})"
   ]
  },
  {
   "cell_type": "code",
   "execution_count": 12,
   "id": "usual-average",
   "metadata": {},
   "outputs": [
    {
     "data": {
      "text/plain": [
       "{'label_output': array([[0., 0., 0., 0., 0., 0., 0., 0., 0., 1.],\n",
       "        [0., 0., 0., 1., 0., 0., 0., 0., 0., 0.],\n",
       "        [0., 0., 0., 0., 0., 0., 1., 0., 0., 0.],\n",
       "        [0., 0., 0., 0., 0., 0., 1., 0., 0., 0.],\n",
       "        [0., 0., 0., 0., 0., 0., 0., 0., 1., 0.],\n",
       "        [0., 0., 0., 0., 0., 0., 0., 0., 0., 1.],\n",
       "        [0., 0., 0., 0., 0., 0., 0., 0., 1., 0.],\n",
       "        [0., 0., 0., 0., 0., 0., 0., 0., 0., 1.],\n",
       "        [0., 0., 0., 0., 0., 0., 0., 0., 1., 0.],\n",
       "        [0., 0., 0., 0., 0., 0., 0., 0., 0., 1.]], dtype=float32)}"
      ]
     },
     "execution_count": 12,
     "metadata": {},
     "output_type": "execute_result"
    }
   ],
   "source": [
    "model.predict(x={'image_input':test_examples[0:10]})"
   ]
  },
  {
   "cell_type": "code",
   "execution_count": 13,
   "id": "headed-affiliate",
   "metadata": {},
   "outputs": [
    {
     "data": {
      "text/plain": [
       "array([7, 2, 1, 0, 4, 1, 4, 9, 5, 9], dtype=uint8)"
      ]
     },
     "execution_count": 13,
     "metadata": {},
     "output_type": "execute_result"
    }
   ],
   "source": [
    "test_labels[0:10]"
   ]
  },
  {
   "cell_type": "code",
   "execution_count": null,
   "id": "biblical-bracket",
   "metadata": {},
   "outputs": [],
   "source": []
  }
 ],
 "metadata": {
  "kernelspec": {
   "display_name": "Python 3",
   "language": "python",
   "name": "python3"
  },
  "language_info": {
   "codemirror_mode": {
    "name": "ipython",
    "version": 3
   },
   "file_extension": ".py",
   "mimetype": "text/x-python",
   "name": "python",
   "nbconvert_exporter": "python",
   "pygments_lexer": "ipython3",
   "version": "3.7.9"
  }
 },
 "nbformat": 4,
 "nbformat_minor": 5
}
